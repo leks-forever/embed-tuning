{
 "cells": [
  {
   "cell_type": "code",
   "execution_count": 1,
   "metadata": {},
   "outputs": [
    {
     "name": "stderr",
     "output_type": "stream",
     "text": [
      "/home/raki/raki-projects/e5-finetuning/.venv/lib/python3.10/site-packages/tqdm/auto.py:21: TqdmWarning: IProgress not found. Please update jupyter and ipywidgets. See https://ipywidgets.readthedocs.io/en/stable/user_install.html\n",
      "  from .autonotebook import tqdm as notebook_tqdm\n"
     ]
    }
   ],
   "source": [
    "# import os\n",
    "# import sys\n",
    "\n",
    "# if 'has_changed_dir' not in globals():\n",
    "#     repo_path = os.path.abspath(os.path.join('..'))\n",
    "    \n",
    "#     if repo_path not in sys.path:\n",
    "#         sys.path.append(repo_path)\n",
    "    \n",
    "#     os.chdir(repo_path)\n",
    "    \n",
    "#     globals()['has_changed_dir'] = True\n",
    "#     print(repo_path)\n",
    "#     print(os.getcwd())\n",
    "\n",
    "\n",
    "# from typing import Optional, Union\n",
    "\n",
    "# import torch\n",
    "from transformers import AutoTokenizer, AutoModel\n",
    "\n",
    "\n"
   ]
  },
  {
   "cell_type": "code",
   "execution_count": 2,
   "metadata": {},
   "outputs": [],
   "source": [
    "final_model_path = \"models/LaBSE-tuned/final\"\n",
    "\n",
    "model = AutoModel.from_pretrained(final_model_path)\n",
    "tokenizer = AutoTokenizer.from_pretrained(final_model_path)"
   ]
  },
  {
   "cell_type": "code",
   "execution_count": 3,
   "metadata": {},
   "outputs": [
    {
     "name": "stderr",
     "output_type": "stream",
     "text": [
      "model.safetensors: 100%|██████████| 1.88G/1.88G [01:05<00:00, 28.9MB/s] \n",
      "tokenizer.json: 100%|██████████| 13.6M/13.6M [00:00<00:00, 23.4MB/s]\n"
     ]
    },
    {
     "data": {
      "text/plain": [
       "CommitInfo(commit_url='https://huggingface.co/leks-forever/LaBSE/commit/f6d4994cc018020c0cbfca60f9b467189aa5595d', commit_message='Upload tokenizer', commit_description='', oid='f6d4994cc018020c0cbfca60f9b467189aa5595d', pr_url=None, pr_revision=None, pr_num=None)"
      ]
     },
     "execution_count": 3,
     "metadata": {},
     "output_type": "execute_result"
    }
   ],
   "source": [
    "YOUR_TOKEN = \"Your access token is here\" # noqa: S105\n",
    "\n",
    "model.push_to_hub(\"leks-forever/LaBSE\", token = YOUR_TOKEN)\n",
    "tokenizer.push_to_hub(\"leks-forever/LaBSE\", token  = YOUR_TOKEN)"
   ]
  },
  {
   "cell_type": "code",
   "execution_count": 4,
   "metadata": {},
   "outputs": [],
   "source": [
    "model = AutoModel.from_pretrained(\"leks-forever/LaBSE\")\n",
    "tokenizer = AutoTokenizer.from_pretrained(\"leks-forever/LaBSE\")\n"
   ]
  }
 ],
 "metadata": {
  "kernelspec": {
   "display_name": ".venv",
   "language": "python",
   "name": "python3"
  },
  "language_info": {
   "codemirror_mode": {
    "name": "ipython",
    "version": 3
   },
   "file_extension": ".py",
   "mimetype": "text/x-python",
   "name": "python",
   "nbconvert_exporter": "python",
   "pygments_lexer": "ipython3",
   "version": "3.10.12"
  }
 },
 "nbformat": 4,
 "nbformat_minor": 2
}
