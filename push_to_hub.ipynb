{
 "cells": [
  {
   "cell_type": "code",
   "execution_count": 1,
   "metadata": {},
   "outputs": [
    {
     "name": "stderr",
     "output_type": "stream",
     "text": [
      "/home/raki/raki-projects/e5-finetuning/.venv/lib/python3.10/site-packages/tqdm/auto.py:21: TqdmWarning: IProgress not found. Please update jupyter and ipywidgets. See https://ipywidgets.readthedocs.io/en/stable/user_install.html\n",
      "  from .autonotebook import tqdm as notebook_tqdm\n"
     ]
    }
   ],
   "source": [
    "# import os\n",
    "# import sys\n",
    "\n",
    "# if 'has_changed_dir' not in globals():\n",
    "#     repo_path = os.path.abspath(os.path.join('..'))\n",
    "    \n",
    "#     if repo_path not in sys.path:\n",
    "#         sys.path.append(repo_path)\n",
    "    \n",
    "#     os.chdir(repo_path)\n",
    "    \n",
    "#     globals()['has_changed_dir'] = True\n",
    "#     print(repo_path)\n",
    "#     print(os.getcwd())\n",
    "\n",
    "\n",
    "# from typing import Optional, Union\n",
    "\n",
    "# import torch\n",
    "from transformers import AutoTokenizer, AutoModel\n",
    "\n",
    "\n"
   ]
  },
  {
   "cell_type": "code",
   "execution_count": 2,
   "metadata": {},
   "outputs": [],
   "source": [
    "final_model_path = \"models/multilingual-e5-large-tuned/final\"\n",
    "\n",
    "model = AutoModel.from_pretrained(final_model_path)\n",
    "tokenizer = AutoTokenizer.from_pretrained(final_model_path)"
   ]
  },
  {
   "cell_type": "code",
   "execution_count": 4,
   "metadata": {},
   "outputs": [
    {
     "name": "stderr",
     "output_type": "stream",
     "text": [
      "model.safetensors: 100%|██████████| 2.24G/2.24G [01:21<00:00, 27.4MB/s]  \n",
      "tokenizer.json: 100%|██████████| 17.1M/17.1M [00:01<00:00, 12.7MB/s]\n"
     ]
    },
    {
     "data": {
      "text/plain": [
       "CommitInfo(commit_url='https://huggingface.co/leks-forever/multilingual-e5-large/commit/4917a02fb53c985c5e175d1e6161b4571f60577f', commit_message='Upload tokenizer', commit_description='', oid='4917a02fb53c985c5e175d1e6161b4571f60577f', pr_url=None, pr_revision=None, pr_num=None)"
      ]
     },
     "execution_count": 4,
     "metadata": {},
     "output_type": "execute_result"
    }
   ],
   "source": [
    "YOUR_TOKEN = \"Your access token here\" # noqa: S105\n",
    "\n",
    "model.push_to_hub(\"leks-forever/multilingual-e5-large\", token = YOUR_TOKEN)\n",
    "tokenizer.push_to_hub(\"leks-forever/multilingual-e5-large\", token  = YOUR_TOKEN)"
   ]
  },
  {
   "cell_type": "code",
   "execution_count": 7,
   "metadata": {},
   "outputs": [],
   "source": [
    "model = AutoModel.from_pretrained(\"leks-forever/multilingual-e5-large\")\n",
    "tokenizer = AutoTokenizer.from_pretrained(\"leks-forever/multilingual-e5-large\")\n"
   ]
  }
 ],
 "metadata": {
  "kernelspec": {
   "display_name": ".venv",
   "language": "python",
   "name": "python3"
  },
  "language_info": {
   "codemirror_mode": {
    "name": "ipython",
    "version": 3
   },
   "file_extension": ".py",
   "mimetype": "text/x-python",
   "name": "python",
   "nbconvert_exporter": "python",
   "pygments_lexer": "ipython3",
   "version": "3.10.12"
  }
 },
 "nbformat": 4,
 "nbformat_minor": 2
}
